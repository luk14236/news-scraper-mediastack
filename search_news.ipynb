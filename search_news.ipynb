{
  "nbformat": 4,
  "nbformat_minor": 0,
  "metadata": {
    "colab": {
      "provenance": [],
      "toc_visible": true
    },
    "kernelspec": {
      "name": "python3",
      "display_name": "Python 3"
    },
    "language_info": {
      "name": "python"
    }
  },
  "cells": [
    {
      "cell_type": "code",
      "execution_count": null,
      "metadata": {
        "id": "4vWzCGuOHTmn"
      },
      "outputs": [],
      "source": [
        "key = \"api-key\""
      ]
    },
    {
      "cell_type": "code",
      "source": [
        "import http.client, urllib.parse\n",
        "\n",
        "conn = http.client.HTTPConnection('api.mediastack.com')\n",
        "\n",
        "params = urllib.parse.urlencode({\n",
        "    'access_key': key,\n",
        "    'keywords': 'inpe',\n",
        "    'sort': 'published_desc',\n",
        "    'date':'2023-09-08',\n",
        "    'limit': 100\n",
        "    })\n",
        "\n",
        "conn.request('GET', '/v1/news?{}'.format(params))\n",
        "\n",
        "res = conn.getresponse()\n",
        "data = res.read()\n",
        "\n",
        "print(data.decode('utf-8'))"
      ],
      "metadata": {
        "colab": {
          "base_uri": "https://localhost:8080/"
        },
        "id": "TGV6irMLHkcl",
        "outputId": "190953ef-ea54-4f39-9bf7-d516a2322fc0"
      },
      "execution_count": null,
      "outputs": [
        {
          "output_type": "stream",
          "name": "stdout",
          "text": [
            "{\"pagination\":{\"limit\":100,\"offset\":0,\"count\":5,\"total\":5},\"data\":[{\"author\":\"Carlos Salazar\",\"title\":\"Alertas por deforestaci\\u00f3n en Amazon\\u00eda brasile\\u00f1a caen 66% en agosto, dice instituto\",\"description\":\"R\\u00edo de Janeiro (Brasil), 8 sep (Sputnik).- Las alertas por deforestaci\\u00f3n en la Amazon\\u00eda brasile\\u00f1a cayeron m\\u00e1s del 60 por ciento en agosto respecto al mismo mes del a\\u00f1o pasado, seg\\u00fan muestran los datos del Instituto Nacional de Investigaciones Espaciales (INPE), vinculado al Ministerio de Ciencia y Tecnolog\\u00eda de Brasil. Seg\\u00fan el sistema Deter de [\\u0026#8230;]\",\"url\":\"https:\\/\\/www.elpais.cr\\/2023\\/09\\/08\\/alertas-por-deforestacion-en-amazonia-brasilena-caen-66-en-agosto-dice-instituto\\/\",\"source\":\"elpais\",\"image\":null,\"category\":\"general\",\"language\":\"es\",\"country\":\"cr\",\"published_at\":\"2023-09-08T17:30:42+00:00\"},{\"author\":null,\"title\":\"Brasile: cala a luglio l\\u0027allarme di deforestazione in Amazzonia\",\"description\":\"Leggi l\\u0027Articolo - Un rapporto dell\\u0027Istituto nazionale per la ricerca spaziale (Inpe) del Brasile ha rivelato che gli allarmi riguardanti la deforestazione nell\\u0027Amazzonia legale (con questa denominazione si intende l\\u0027......\",\"url\":\"https:\\/\\/www.zazoom.it\\/2023-09-08\\/brasile-cala-a-luglio-lallarme-di-deforestazione-in-amazzonia\\/13468759\\/\",\"source\":\"zazoom\",\"image\":null,\"category\":\"general\",\"language\":\"it\",\"country\":\"it\",\"published_at\":\"2023-09-08T16:33:41+00:00\"},{\"author\":null,\"title\":\"Alertas de desmatamento caem 66% na Amaz\\u00f4nia em agosto, diz Inpe\",\"description\":\"Enquanto a Amaz\\u0026ocirc;nia, em agosto, teve uma expressiva redu\\u0026ccedil;\\u0026atilde;o de 66% no desmatamento, em rela\\u0026ccedil;\\u0026atilde;o ao mesmo m\\u0026ecirc;s do ano passado, o Cerrado segue em uma linha de crescimento de derrubada de vegeta\\u0026ccedil;\\u0026atilde;o nativa.Desta vez vez, com um leve aumento de 2%, em compara\\u0026ccedil;\\u0026atilde;o a agosto passado, o que foi suficiente, por\\u0026eacute;m, para alcan\\u0026ccedil;ar o segundo maior valor da m\\u0026eacute;dia hist\\u0026oacute;rica do Deter para o m\\u0026ecirc;s.No caso amaz\\u0026ocirc;nico, foram registrados 563,09 km\\u0026sup2; de desmatamento no \\u0026uacute;ltimo m\\u0026ecirc;s, a menor taxa para...\",\"url\":\"https:\\/\\/www.diariodecuiaba.com.br\\/ambiente\\/alertas-de-desmatamento-caem-66-na-amazonia-em-agosto-diz-inpe\\/661635\",\"source\":\"diariodecuiaba\",\"image\":null,\"category\":\"general\",\"language\":\"pt\",\"country\":\"br\",\"published_at\":\"2023-09-08T12:46:00+00:00\"},{\"author\":null,\"title\":\"Piau\\u00ed registra 125 inc\\u00eandios em 48 horas; em Amarante, fogo atinge \\u00e1rea florestal\",\"description\":\"Segundo o Instituto Nacional de Pesquisas Espaciais (Inpe), 3824 focos de inc\\u00eandio no Piau\\u00ed foram registrados desde o in\\u00edcio do ano at\\u00e9 esta sexta-feira (8). 1Piau\\u00ed \\u00e9 o sexto estado do pa\\u00eds em n\\u00famero de inc\\u00eandios florestais em 2023O Piau\\u00ed registrou nas \\u00faltimas 48 horas 125 focos de inc\\u00eandio, alcan\\u00e7ando em todo o ano o sexto maior \\u00edndice de focos do pa\\u00eds no ano, conforme o Instituto Nacional de Pesquisas Espaciais (Inpe). Ao todo, foram 3824 focos at\\u00e9 esta sexta-feira (8). Foram 125 inc\\u00eandios registrados no estado s\\u00f3 nas \\u00faltimas 48 horas, e mais de 500 por semana. Dentro do...\",\"url\":\"https:\\/\\/g1.globo.com\\/pi\\/piaui\\/noticia\\/2023\\/09\\/08\\/piaui-registra-125-incendios-em-48-horas-em-amarante-fogo-atinge-area-florestal.ghtml\",\"source\":\"G1 - G1 - Todas as not\\u00edcias\",\"image\":null,\"category\":\"general\",\"language\":\"pt\",\"country\":\"br\",\"published_at\":\"2023-09-08T12:15:49+00:00\"},{\"author\":null,\"title\":\"INp-kandidat tror vi kan v\\u00e6re p\\u00e5 vei mot en \\u00abmini-istid\\u00bb fra 2030\",\"description\":\"Borgar Hurum (75) kan bli valgt inn i bystyret i Oslo til h\\u00f8sten. Han tror kloden heller vil bli kaldere enn varmere i\\u2026\",\"url\":\"https:\\/\\/www.aftenposten.no\\/norge\\/politikk\\/i\\/69g7Pe\\/inp-kandidat-frykter-mini-istid-ikke-global-oppvarming\",\"source\":\"Aftenposten\",\"image\":\"https:\\/\\/premium.vgc.no\\/v2\\/images\\/df6f7b6c-9579-44ee-8b4b-47376eb97f15?fit=crop\\u0026format=auto\\u0026h=1152\\u0026tight=true\\u0026w=2048\\u0026s=2bb9b75ad22f3c21eb0566173897620610ee00f5\",\"category\":\"general\",\"language\":\"no\",\"country\":\"no\",\"published_at\":\"2023-09-08T08:53:21+00:00\"}]}\n"
          ]
        }
      ]
    },
    {
      "cell_type": "code",
      "source": [
        "data"
      ],
      "metadata": {
        "colab": {
          "base_uri": "https://localhost:8080/"
        },
        "id": "yl_LQjWCHsyr",
        "outputId": "0cdd32ba-464a-4186-d888-517844ad78ac"
      },
      "execution_count": null,
      "outputs": [
        {
          "output_type": "execute_result",
          "data": {
            "text/plain": [
              "b'{\"pagination\":{\"limit\":100,\"offset\":0,\"count\":5,\"total\":5},\"data\":[{\"author\":\"Carlos Salazar\",\"title\":\"Alertas por deforestaci\\\\u00f3n en Amazon\\\\u00eda brasile\\\\u00f1a caen 66% en agosto, dice instituto\",\"description\":\"R\\\\u00edo de Janeiro (Brasil), 8 sep (Sputnik).- Las alertas por deforestaci\\\\u00f3n en la Amazon\\\\u00eda brasile\\\\u00f1a cayeron m\\\\u00e1s del 60 por ciento en agosto respecto al mismo mes del a\\\\u00f1o pasado, seg\\\\u00fan muestran los datos del Instituto Nacional de Investigaciones Espaciales (INPE), vinculado al Ministerio de Ciencia y Tecnolog\\\\u00eda de Brasil. Seg\\\\u00fan el sistema Deter de [\\\\u0026#8230;]\",\"url\":\"https:\\\\/\\\\/www.elpais.cr\\\\/2023\\\\/09\\\\/08\\\\/alertas-por-deforestacion-en-amazonia-brasilena-caen-66-en-agosto-dice-instituto\\\\/\",\"source\":\"elpais\",\"image\":null,\"category\":\"general\",\"language\":\"es\",\"country\":\"cr\",\"published_at\":\"2023-09-08T17:30:42+00:00\"},{\"author\":null,\"title\":\"Brasile: cala a luglio l\\\\u0027allarme di deforestazione in Amazzonia\",\"description\":\"Leggi l\\\\u0027Articolo - Un rapporto dell\\\\u0027Istituto nazionale per la ricerca spaziale (Inpe) del Brasile ha rivelato che gli allarmi riguardanti la deforestazione nell\\\\u0027Amazzonia legale (con questa denominazione si intende l\\\\u0027......\",\"url\":\"https:\\\\/\\\\/www.zazoom.it\\\\/2023-09-08\\\\/brasile-cala-a-luglio-lallarme-di-deforestazione-in-amazzonia\\\\/13468759\\\\/\",\"source\":\"zazoom\",\"image\":null,\"category\":\"general\",\"language\":\"it\",\"country\":\"it\",\"published_at\":\"2023-09-08T16:33:41+00:00\"},{\"author\":null,\"title\":\"Alertas de desmatamento caem 66% na Amaz\\\\u00f4nia em agosto, diz Inpe\",\"description\":\"Enquanto a Amaz\\\\u0026ocirc;nia, em agosto, teve uma expressiva redu\\\\u0026ccedil;\\\\u0026atilde;o de 66% no desmatamento, em rela\\\\u0026ccedil;\\\\u0026atilde;o ao mesmo m\\\\u0026ecirc;s do ano passado, o Cerrado segue em uma linha de crescimento de derrubada de vegeta\\\\u0026ccedil;\\\\u0026atilde;o nativa.Desta vez vez, com um leve aumento de 2%, em compara\\\\u0026ccedil;\\\\u0026atilde;o a agosto passado, o que foi suficiente, por\\\\u0026eacute;m, para alcan\\\\u0026ccedil;ar o segundo maior valor da m\\\\u0026eacute;dia hist\\\\u0026oacute;rica do Deter para o m\\\\u0026ecirc;s.No caso amaz\\\\u0026ocirc;nico, foram registrados 563,09 km\\\\u0026sup2; de desmatamento no \\\\u0026uacute;ltimo m\\\\u0026ecirc;s, a menor taxa para...\",\"url\":\"https:\\\\/\\\\/www.diariodecuiaba.com.br\\\\/ambiente\\\\/alertas-de-desmatamento-caem-66-na-amazonia-em-agosto-diz-inpe\\\\/661635\",\"source\":\"diariodecuiaba\",\"image\":null,\"category\":\"general\",\"language\":\"pt\",\"country\":\"br\",\"published_at\":\"2023-09-08T12:46:00+00:00\"},{\"author\":null,\"title\":\"Piau\\\\u00ed registra 125 inc\\\\u00eandios em 48 horas; em Amarante, fogo atinge \\\\u00e1rea florestal\",\"description\":\"Segundo o Instituto Nacional de Pesquisas Espaciais (Inpe), 3824 focos de inc\\\\u00eandio no Piau\\\\u00ed foram registrados desde o in\\\\u00edcio do ano at\\\\u00e9 esta sexta-feira (8). 1Piau\\\\u00ed \\\\u00e9 o sexto estado do pa\\\\u00eds em n\\\\u00famero de inc\\\\u00eandios florestais em 2023O Piau\\\\u00ed registrou nas \\\\u00faltimas 48 horas 125 focos de inc\\\\u00eandio, alcan\\\\u00e7ando em todo o ano o sexto maior \\\\u00edndice de focos do pa\\\\u00eds no ano, conforme o Instituto Nacional de Pesquisas Espaciais (Inpe). Ao todo, foram 3824 focos at\\\\u00e9 esta sexta-feira (8). Foram 125 inc\\\\u00eandios registrados no estado s\\\\u00f3 nas \\\\u00faltimas 48 horas, e mais de 500 por semana. Dentro do...\",\"url\":\"https:\\\\/\\\\/g1.globo.com\\\\/pi\\\\/piaui\\\\/noticia\\\\/2023\\\\/09\\\\/08\\\\/piaui-registra-125-incendios-em-48-horas-em-amarante-fogo-atinge-area-florestal.ghtml\",\"source\":\"G1 - G1 - Todas as not\\\\u00edcias\",\"image\":null,\"category\":\"general\",\"language\":\"pt\",\"country\":\"br\",\"published_at\":\"2023-09-08T12:15:49+00:00\"},{\"author\":null,\"title\":\"INp-kandidat tror vi kan v\\\\u00e6re p\\\\u00e5 vei mot en \\\\u00abmini-istid\\\\u00bb fra 2030\",\"description\":\"Borgar Hurum (75) kan bli valgt inn i bystyret i Oslo til h\\\\u00f8sten. Han tror kloden heller vil bli kaldere enn varmere i\\\\u2026\",\"url\":\"https:\\\\/\\\\/www.aftenposten.no\\\\/norge\\\\/politikk\\\\/i\\\\/69g7Pe\\\\/inp-kandidat-frykter-mini-istid-ikke-global-oppvarming\",\"source\":\"Aftenposten\",\"image\":\"https:\\\\/\\\\/premium.vgc.no\\\\/v2\\\\/images\\\\/df6f7b6c-9579-44ee-8b4b-47376eb97f15?fit=crop\\\\u0026format=auto\\\\u0026h=1152\\\\u0026tight=true\\\\u0026w=2048\\\\u0026s=2bb9b75ad22f3c21eb0566173897620610ee00f5\",\"category\":\"general\",\"language\":\"no\",\"country\":\"no\",\"published_at\":\"2023-09-08T08:53:21+00:00\"}]}'"
            ]
          },
          "metadata": {},
          "execution_count": 51
        }
      ]
    },
    {
      "cell_type": "code",
      "source": [],
      "metadata": {
        "id": "WSNpNtFiIJiT"
      },
      "execution_count": null,
      "outputs": []
    }
  ]
}